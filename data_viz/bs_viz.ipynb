{
 "cells": [
  {
   "cell_type": "code",
   "execution_count": 3,
   "id": "9e94a23a",
   "metadata": {},
   "outputs": [],
   "source": [
    "import sys\n",
    "sys.path.append('/Users/sdkolak/anaconda3/envs/hector/lib/python3.9/site-packages')"
   ]
  },
  {
   "cell_type": "code",
   "execution_count": 17,
   "id": "96802914",
   "metadata": {},
   "outputs": [],
   "source": [
    "import os \n",
    "import json"
   ]
  },
  {
   "cell_type": "code",
   "execution_count": 9,
   "id": "832664b9",
   "metadata": {},
   "outputs": [],
   "source": [
    "prefix_only_path = \"../data/rep/no_gap_bleu_score/p\"\n",
    "prefix_suffix_path = \"../data/rep/no_gap_bleu_score/ps\""
   ]
  },
  {
   "cell_type": "code",
   "execution_count": 13,
   "id": "e5bb053e",
   "metadata": {},
   "outputs": [],
   "source": [
    "def get_files(path):\n",
    "    files = []\n",
    "    for file in os.listdir(path):\n",
    "        files.append(os.path.join(path, file))\n",
    "    return files"
   ]
  },
  {
   "cell_type": "code",
   "execution_count": 16,
   "id": "ab43b4c8",
   "metadata": {},
   "outputs": [],
   "source": [
    "prefix_only = get_files(prefix_only_path)\n",
    "prefix_suffix = get_files(prefix_suffix_path)"
   ]
  },
  {
   "cell_type": "code",
   "execution_count": 60,
   "id": "d0644f79",
   "metadata": {},
   "outputs": [],
   "source": [
    "def get_data(files, context):\n",
    "    perf_match_count = 0\n",
    "    total = 0\n",
    "    matched = []\n",
    "    for file in files:\n",
    "        proj, bug = file.split(\"/\")[-1].replace(\".json\", \"\").split(\"_\")\n",
    "        proj_bug = (proj,bug)\n",
    "        f = open(file, \"r\")\n",
    "        bs_sum, count = 0,0\n",
    "        for line in f:\n",
    "            data = json.loads(line)\n",
    "            rank = data[\"rank\"]\n",
    "            bleu_score = float(data[\"bleu_score\"])\n",
    "            if bleu_score == 1.0 and proj_bug not in matched: \n",
    "                perf_match_count += 1 \n",
    "                matched.append(proj_bug)\n",
    "            bs_sum += bleu_score \n",
    "            count += 1\n",
    "        total += 1\n",
    "    print(\"average bleu score:\", (bs_sum/count))\n",
    "    print(\"number of perf matches:\", perf_match_count, \"total:\", total)\n",
    "    print(\"perf match percent:\", (perf_match_count/total))\n",
    "    return matched "
   ]
  },
  {
   "cell_type": "code",
   "execution_count": 68,
   "id": "b8f9adec",
   "metadata": {},
   "outputs": [
    {
     "name": "stdout",
     "output_type": "stream",
     "text": [
      "prefix only:\n",
      "average bleu score: 0.7734974253338421\n",
      "number of perf matches: 19 total: 95\n",
      "perf match percent: 0.2\n",
      "with suffix:\n",
      "average bleu score: 0.8322640918359336\n",
      "number of perf matches: 30 total: 95\n",
      "perf match percent: 0.3157894736842105\n",
      "13\n",
      "same ('matplotlib', '24')\n",
      "new ('keras', '7')\n",
      "new ('youtube-dl', '36')\n",
      "same ('scrapy', '20')\n",
      "same ('pandas', '89')\n",
      "same ('pandas', '117')\n",
      "same ('pandas', '116')\n",
      "same ('keras', '31')\n",
      "same ('black', '3')\n",
      "same ('pandas', '48')\n",
      "same ('scrapy', '13')\n",
      "same ('luigi', '13')\n",
      "same ('youtube-dl', '12')\n",
      "same ('matplotlib', '26')\n",
      "same ('keras', '38')\n",
      "same ('thefuck', '19')\n",
      "same ('PySnooper', '3')\n",
      "same ('sanic', '1')\n",
      "same ('matplotlib', '27')\n"
     ]
    }
   ],
   "source": [
    "print(\"prefix only:\")\n",
    "pre_perf = get_data(prefix_only, 'p')\n",
    "print(\"with suffix:\")\n",
    "pre_suf_perf = get_data(prefix_suffix, 'ps')\n",
    "\n",
    "pre_set = set(pre_perf)\n",
    "pre_suf_set = set(pre_suf_perf)\n",
    "\n",
    "print(len(pre_suf_set - pre_set))\n",
    "\n",
    "for file in pre_perf: \n",
    "    if file not in pre_suf_perf:\n",
    "        print(\"new\", file)\n",
    "    if file in pre_suf_perf:\n",
    "        print(\"same\", file)"
   ]
  },
  {
   "cell_type": "code",
   "execution_count": null,
   "id": "ee657aed",
   "metadata": {},
   "outputs": [],
   "source": []
  }
 ],
 "metadata": {
  "kernelspec": {
   "display_name": "Python 3 (ipykernel)",
   "language": "python",
   "name": "python3"
  },
  "language_info": {
   "codemirror_mode": {
    "name": "ipython",
    "version": 3
   },
   "file_extension": ".py",
   "mimetype": "text/x-python",
   "name": "python",
   "nbconvert_exporter": "python",
   "pygments_lexer": "ipython3",
   "version": "3.9.12"
  }
 },
 "nbformat": 4,
 "nbformat_minor": 5
}

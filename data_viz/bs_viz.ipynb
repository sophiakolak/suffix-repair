{
 "cells": [
  {
   "cell_type": "code",
   "execution_count": 78,
   "id": "c113594f",
   "metadata": {},
   "outputs": [],
   "source": [
    "import sys\n",
    "sys.path.append('/Users/sdkolak/anaconda3/envs/hector/lib/python3.9/site-packages')"
   ]
  },
  {
   "cell_type": "code",
   "execution_count": 79,
   "id": "5f2dab6a",
   "metadata": {},
   "outputs": [],
   "source": [
    "import os \n",
    "import json"
   ]
  },
  {
   "cell_type": "code",
   "execution_count": 80,
   "id": "19199691",
   "metadata": {},
   "outputs": [],
   "source": [
    "prefix_only_path = \"../data/rep/no_gap_bleu_score/p\"\n",
    "prefix_suffix_path = \"../data/rep/no_gap_bleu_score/ps\""
   ]
  },
  {
   "cell_type": "code",
   "execution_count": 81,
   "id": "d4873af9",
   "metadata": {},
   "outputs": [],
   "source": [
    "def get_files(path):\n",
    "    files = []\n",
    "    for file in os.listdir(path):\n",
    "        files.append(os.path.join(path, file))\n",
    "    return files"
   ]
  },
  {
   "cell_type": "code",
   "execution_count": 82,
   "id": "bba8974e",
   "metadata": {},
   "outputs": [],
   "source": [
    "prefix_only = get_files(prefix_only_path)\n",
    "prefix_suffix = get_files(prefix_suffix_path)"
   ]
  },
  {
   "cell_type": "code",
   "execution_count": 83,
   "id": "37ead952",
   "metadata": {},
   "outputs": [],
   "source": [
    "def get_data(files, context):\n",
    "    perf_match_count = 0\n",
    "    total = 0\n",
    "    matched = []\n",
    "    for file in files:\n",
    "        proj, bug = file.split(\"/\")[-1].replace(\".json\", \"\").split(\"_\")\n",
    "        proj_bug = (proj,bug)\n",
    "        f = open(file, \"r\")\n",
    "        bs_sum, count = 0,0\n",
    "        for line in f:\n",
    "            data = json.loads(line)\n",
    "            rank = data[\"rank\"]\n",
    "            bleu_score = float(data[\"bleu_score\"])\n",
    "            if bleu_score == 1.0 and proj_bug not in matched: \n",
    "                perf_match_count += 1 \n",
    "                matched.append(proj_bug)\n",
    "            bs_sum += bleu_score \n",
    "            count += 1\n",
    "        total += 1\n",
    "    print(\"average bleu score:\", (bs_sum/count))\n",
    "    print(\"number of perf matches:\", perf_match_count, \"total:\", total)\n",
    "    print(\"perf match percent:\", (perf_match_count/total))\n",
    "    return matched "
   ]
  },
  {
   "cell_type": "code",
   "execution_count": 84,
   "id": "e48a6608",
   "metadata": {},
   "outputs": [
    {
     "name": "stdout",
     "output_type": "stream",
     "text": [
      "prefix only:\n",
      "average bleu score: 0.7734974253338421\n",
      "number of perf matches: 19 total: 95\n",
      "perf match percent: 0.2\n",
      "with suffix:\n",
      "average bleu score: 0.8322640918359336\n",
      "number of perf matches: 30 total: 95\n",
      "perf match percent: 0.3157894736842105\n"
     ]
    }
   ],
   "source": [
    "print(\"prefix only:\")\n",
    "pre_perf = get_data(prefix_only, 'p')\n",
    "print(\"with suffix:\")\n",
    "pre_suf_perf = get_data(prefix_suffix, 'ps')\n",
    "\n",
    "#pre_set = set(pre_perf)\n",
    "#pre_suf_set = set(pre_suf_perf)\n",
    "\n",
    "#print(len(pre_suf_set - pre_set))\n",
    "\n",
    "#for file in pre_perf: \n",
    "#    if file not in pre_suf_perf:\n",
    "        #print(\"new\", file)\n",
    "#    if file in pre_suf_perf:\n",
    "#        print(\"same\", file)"
   ]
  },
  {
   "cell_type": "code",
   "execution_count": 122,
   "id": "3f799a98",
   "metadata": {},
   "outputs": [],
   "source": [
    "def get_data(files, context):\n",
    "    perf_match_count = 0\n",
    "    total = 0\n",
    "    matched = []\n",
    "    rank_bs = {}\n",
    "    count = 0\n",
    "    for file in files:\n",
    "        proj, bug = file.split(\"/\")[-1].replace(\".json\", \"\").split(\"_\")\n",
    "        proj_bug = (proj,bug)\n",
    "        f = open(file, \"r\")\n",
    "        bs_sum = 0\n",
    "        for line in f:\n",
    "            data = json.loads(line)\n",
    "            rank = data[\"rank\"]\n",
    "            bleu_score = float(data[\"bleu_score\"])\n",
    "            if rank not in rank_bs:\n",
    "                rank_bs[rank] = []\n",
    "            rank_bs[rank].append(bleu_score)\n",
    "            if bleu_score == 1.0 and proj_bug not in matched: \n",
    "                perf_match_count += 1 \n",
    "                matched.append(proj_bug)\n",
    "            bs_sum += bleu_score \n",
    "            count += 1\n",
    "        total += 1\n",
    "    #print(\"average bleu score:\", (bs_sum/count))\n",
    "    #print(\"number of perf matches:\", perf_match_count, \"total:\", total)\n",
    "    #print(\"perf match percent:\", (perf_match_count/total))\n",
    "    return rank_bs"
   ]
  },
  {
   "cell_type": "code",
   "execution_count": 123,
   "id": "4627f2f3",
   "metadata": {},
   "outputs": [],
   "source": [
    "def avrg(lst):\n",
    "    return sum(lst) / len(lst)\n",
    "\n",
    "def get_avrg(rank_bs, has_suffix, data_f):\n",
    "    all_bs = []\n",
    "    for rank,scores in rank_bs.items():\n",
    "        av = avrg(scores)\n",
    "        data_f.write(str(rank) + \",\" + str(av) + \",\" + str(has_suffix)+'\\n')\n",
    "        all_bs.append(av)\n",
    "    print(\"overall av:\", avrg(all_bs))\n",
    "        "
   ]
  },
  {
   "cell_type": "code",
   "execution_count": 124,
   "id": "67274ac0",
   "metadata": {},
   "outputs": [
    {
     "name": "stdout",
     "output_type": "stream",
     "text": [
      "prefix only:\n",
      "overall av: 0.28664165252131124\n",
      "with suffix:\n",
      "overall av: 0.35965025073825774\n"
     ]
    }
   ],
   "source": [
    "data_f = open(\"bs_data.csv\", \"w+\")\n",
    "data_f.write(\"rank,avg_bs,has_suffix\\n\")\n",
    "print(\"prefix only:\")\n",
    "p_rank_bs = get_data(prefix_only, 'p')\n",
    "get_avrg(p_rank_bs, False, data_f)\n",
    "print(\"with suffix:\")\n",
    "ps_rank_bs = get_data(prefix_suffix, 'ps')\n",
    "get_avrg(ps_rank_bs, True, data_f)\n",
    "data_f.close()"
   ]
  },
  {
   "cell_type": "code",
   "execution_count": null,
   "id": "f7f9aa63",
   "metadata": {},
   "outputs": [],
   "source": []
  }
 ],
 "metadata": {
  "kernelspec": {
   "display_name": "Python 3 (ipykernel)",
   "language": "python",
   "name": "python3"
  },
  "language_info": {
   "codemirror_mode": {
    "name": "ipython",
    "version": 3
   },
   "file_extension": ".py",
   "mimetype": "text/x-python",
   "name": "python",
   "nbconvert_exporter": "python",
   "pygments_lexer": "ipython3",
   "version": "3.9.12"
  }
 },
 "nbformat": 4,
 "nbformat_minor": 5
}

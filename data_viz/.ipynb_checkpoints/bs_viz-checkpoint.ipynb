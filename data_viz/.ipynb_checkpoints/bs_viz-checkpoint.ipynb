{
 "cells": [
  {
   "cell_type": "code",
   "execution_count": 78,
   "id": "c113594f",
   "metadata": {},
   "outputs": [],
   "source": [
    "import sys\n",
    "sys.path.append('/Users/sdkolak/anaconda3/envs/hector/lib/python3.9/site-packages')"
   ]
  },
  {
   "cell_type": "code",
   "execution_count": 79,
   "id": "5f2dab6a",
   "metadata": {},
   "outputs": [],
   "source": [
    "import os \n",
    "import json"
   ]
  },
  {
   "cell_type": "code",
   "execution_count": 80,
   "id": "19199691",
   "metadata": {},
   "outputs": [],
   "source": [
    "prefix_only_path = \"../data/rep/no_gap_bleu_score/p\"\n",
    "prefix_suffix_path = \"../data/rep/no_gap_bleu_score/ps\""
   ]
  },
  {
   "cell_type": "code",
   "execution_count": 81,
   "id": "d4873af9",
   "metadata": {},
   "outputs": [],
   "source": [
    "def get_files(path):\n",
    "    files = []\n",
    "    for file in os.listdir(path):\n",
    "        files.append(os.path.join(path, file))\n",
    "    return files"
   ]
  },
  {
   "cell_type": "code",
   "execution_count": 82,
   "id": "bba8974e",
   "metadata": {},
   "outputs": [],
   "source": [
    "prefix_only = get_files(prefix_only_path)\n",
    "prefix_suffix = get_files(prefix_suffix_path)"
   ]
  },
  {
   "cell_type": "code",
   "execution_count": 83,
   "id": "37ead952",
   "metadata": {},
   "outputs": [],
   "source": [
    "def get_data(files, context):\n",
    "    perf_match_count = 0\n",
    "    total = 0\n",
    "    matched = []\n",
    "    for file in files:\n",
    "        proj, bug = file.split(\"/\")[-1].replace(\".json\", \"\").split(\"_\")\n",
    "        proj_bug = (proj,bug)\n",
    "        f = open(file, \"r\")\n",
    "        bs_sum, count = 0,0\n",
    "        for line in f:\n",
    "            data = json.loads(line)\n",
    "            rank = data[\"rank\"]\n",
    "            bleu_score = float(data[\"bleu_score\"])\n",
    "            if bleu_score == 1.0 and proj_bug not in matched: \n",
    "                perf_match_count += 1 \n",
    "                matched.append(proj_bug)\n",
    "            bs_sum += bleu_score \n",
    "            count += 1\n",
    "        total += 1\n",
    "    print(\"average bleu score:\", (bs_sum/count))\n",
    "    print(\"number of perf matches:\", perf_match_count, \"total:\", total)\n",
    "    print(\"perf match percent:\", (perf_match_count/total))\n",
    "    return matched "
   ]
  },
  {
   "cell_type": "code",
   "execution_count": 84,
   "id": "e48a6608",
   "metadata": {},
   "outputs": [
    {
     "name": "stdout",
     "output_type": "stream",
     "text": [
      "prefix only:\n",
      "average bleu score: 0.7734974253338421\n",
      "number of perf matches: 19 total: 95\n",
      "perf match percent: 0.2\n",
      "with suffix:\n",
      "average bleu score: 0.8322640918359336\n",
      "number of perf matches: 30 total: 95\n",
      "perf match percent: 0.3157894736842105\n"
     ]
    }
   ],
   "source": [
    "print(\"prefix only:\")\n",
    "pre_perf = get_data(prefix_only, 'p')\n",
    "print(\"with suffix:\")\n",
    "pre_suf_perf = get_data(prefix_suffix, 'ps')\n",
    "\n",
    "#pre_set = set(pre_perf)\n",
    "#pre_suf_set = set(pre_suf_perf)\n",
    "\n",
    "#print(len(pre_suf_set - pre_set))\n",
    "\n",
    "#for file in pre_perf: \n",
    "#    if file not in pre_suf_perf:\n",
    "        #print(\"new\", file)\n",
    "#    if file in pre_suf_perf:\n",
    "#        print(\"same\", file)"
   ]
  },
  {
   "cell_type": "code",
   "execution_count": 98,
   "id": "3f799a98",
   "metadata": {},
   "outputs": [],
   "source": [
    "def get_data(files, context):\n",
    "    perf_match_count = 0\n",
    "    total = 0\n",
    "    matched = []\n",
    "    rank_bs = {}\n",
    "    count = 0\n",
    "    for file in files:\n",
    "        proj, bug = file.split(\"/\")[-1].replace(\".json\", \"\").split(\"_\")\n",
    "        proj_bug = (proj,bug)\n",
    "        f = open(file, \"r\")\n",
    "        bs_sum = 0\n",
    "        for line in f:\n",
    "            data = json.loads(line)\n",
    "            rank = data[\"rank\"]\n",
    "            bleu_score = float(data[\"bleu_score\"])\n",
    "            if rank not in rank_bs:\n",
    "                rank_bs[rank] = []\n",
    "            rank_bs[rank].append(bleu_score)\n",
    "            if bleu_score == 1.0 and proj_bug not in matched: \n",
    "                perf_match_count += 1 \n",
    "                matched.append(proj_bug)\n",
    "            bs_sum += bleu_score \n",
    "            count += 1\n",
    "        total += 1\n",
    "    #print(\"average bleu score:\", (bs_sum/count))\n",
    "    #print(\"number of perf matches:\", perf_match_count, \"total:\", total)\n",
    "    #print(\"perf match percent:\", (perf_match_count/total))\n",
    "    return rank_bs"
   ]
  },
  {
   "cell_type": "code",
   "execution_count": 105,
   "id": "65ed4db6",
   "metadata": {},
   "outputs": [],
   "source": [
    "def avrg(lst):\n",
    "    return sum(lst) / len(lst)\n",
    "\n",
    "def get_avrg(rank_bs, has_suffix):\n",
    "    all_bs = []\n",
    "    for rank,scores in rank_bs.items():\n",
    "        av = avrg(scores)\n",
    "        print(rank + \",\" + av + \",\" has_suffix)\n",
    "        all_bs.append(av)\n",
    "    print(\"overall av:\", avrg(all_bs))\n",
    "        "
   ]
  },
  {
   "cell_type": "code",
   "execution_count": 106,
   "id": "d7f31b64",
   "metadata": {},
   "outputs": [
    {
     "name": "stdout",
     "output_type": "stream",
     "text": [
      "prefix only:\n",
      "1 0.3316406410771155\n",
      "2 0.3095150421558892\n",
      "3 0.2996575277561287\n",
      "4 0.2879093150988458\n",
      "5 0.3101984339711558\n",
      "6 0.28970995729832066\n",
      "7 0.26707850764871544\n",
      "8 0.29978618452572586\n",
      "9 0.288578034904353\n",
      "10 0.2860676723293818\n",
      "11 0.2805539761591004\n",
      "12 0.2752746762098447\n",
      "13 0.303550732565819\n",
      "14 0.28597486633045044\n",
      "15 0.27466365160874495\n",
      "16 0.3049426682241936\n",
      "17 0.2730412720231407\n",
      "18 0.24522882642776303\n",
      "19 0.2645206651480142\n",
      "20 0.25494039896352255\n",
      "overall av: 0.28664165252131124\n",
      "with suffix:\n",
      "1 0.3418280616443043\n",
      "2 0.3810029186350625\n",
      "3 0.3776911872196908\n",
      "4 0.35337146838442224\n",
      "5 0.39368147657694863\n",
      "6 0.3452439689626477\n",
      "7 0.36232011698337624\n",
      "8 0.37762225005587813\n",
      "9 0.3314602910798074\n",
      "10 0.33704665216708096\n",
      "11 0.35315453026007937\n",
      "12 0.33123945801459953\n",
      "13 0.32236420051778253\n",
      "14 0.31748575706335397\n",
      "15 0.3874920871947516\n",
      "16 0.38730884153459494\n",
      "17 0.3939929299108031\n",
      "18 0.3798230360234404\n",
      "19 0.35112455372748463\n",
      "20 0.3677512288090457\n",
      "overall av: 0.35965025073825774\n"
     ]
    }
   ],
   "source": [
    "print(\"prefix only:\")\n",
    "p_rank_bs = get_data(prefix_only, 'p')\n",
    "get_avrg(p_rank_bs, False)\n",
    "print(\"with suffix:\")\n",
    "ps_rank_bs = get_data(prefix_suffix, 'ps')\n",
    "get_avrg(ps_rank_bs, True)"
   ]
  },
  {
   "cell_type": "code",
   "execution_count": null,
   "id": "0a613b68",
   "metadata": {},
   "outputs": [],
   "source": []
  }
 ],
 "metadata": {
  "kernelspec": {
   "display_name": "Python 3 (ipykernel)",
   "language": "python",
   "name": "python3"
  },
  "language_info": {
   "codemirror_mode": {
    "name": "ipython",
    "version": 3
   },
   "file_extension": ".py",
   "mimetype": "text/x-python",
   "name": "python",
   "nbconvert_exporter": "python",
   "pygments_lexer": "ipython3",
   "version": "3.9.12"
  }
 },
 "nbformat": 4,
 "nbformat_minor": 5
}
